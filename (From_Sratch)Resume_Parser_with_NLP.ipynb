{
  "cells": [
    {
      "cell_type": "markdown",
      "metadata": {
        "id": "view-in-github",
        "colab_type": "text"
      },
      "source": [
        "<a href=\"https://colab.research.google.com/github/barkamoljon/Resume_Parser/blob/main/(From_Sratch)Resume_Parser_with_NLP.ipynb\" target=\"_parent\"><img src=\"https://colab.research.google.com/assets/colab-badge.svg\" alt=\"Open In Colab\"/></a>"
      ]
    },
    {
      "cell_type": "code",
      "source": [
        "# Firstly, you must turn on GPU"
      ],
      "metadata": {
        "id": "VsLTK05oYEO1"
      },
      "execution_count": null,
      "outputs": []
    },
    {
      "cell_type": "code",
      "source": [
        "#do not install not used libraries"
      ],
      "metadata": {
        "id": "N3bsLVdxYASI"
      },
      "execution_count": null,
      "outputs": []
    },
    {
      "cell_type": "code",
      "source": [
        "!pip install -U spacy\n",
        "!pip install spacy_transformers\n",
        "!pip install gradio\n",
        "!pip install PyPDF2==2.9.0\n",
        "!pip install fitz\n",
        "!pip install pip install PyMuPDF==1.19.0"
      ],
      "metadata": {
        "id": "31RUVfbOSnlc"
      },
      "execution_count": null,
      "outputs": []
    },
    {
      "cell_type": "code",
      "execution_count": null,
      "metadata": {
        "id": "sqhU6jfJ2JBW"
      },
      "outputs": [],
      "source": [
        "import spacy\n",
        "import fitz\n",
        "import gradio as gr\n",
        "import json  #do not import if you do not use it\n",
        "import PyPDF2\n",
        "from spacy.tokens import DocBin #do not import if you do not use it\n",
        "from tqdm import tqdm #do not import if you do not use it\n",
        "from sklearn.model_selection import train_test_split #do not import if you do not use it"
      ]
    },
    {
      "cell_type": "code",
      "source": [
        "cv_data = json.load(open('/content/data.txt', 'r'))"
      ],
      "metadata": {
        "id": "Zn_h2BbaXira"
      },
      "execution_count": null,
      "outputs": []
    },
    {
      "cell_type": "code",
      "execution_count": null,
      "metadata": {
        "id": "kI8E0kutUx3l"
      },
      "outputs": [],
      "source": [
        "def get_spacy_doc(file, data):\n",
        "    nlp = spacy.blank('en')\n",
        "    db = DocBin()\n",
        "    \n",
        "    for text, annot in tqdm(data):\n",
        "        doc = nlp.make_doc(text)\n",
        "        annot = annot['entities']\n",
        "        \n",
        "        ents = []\n",
        "        entity_indices = []\n",
        "        \n",
        "        for start, end, label in annot:\n",
        "            skip_entity = False\n",
        "            for idx in entity_indices:\n",
        "                skip_entity = True\n",
        "                break\n",
        "            if skip_entity == True:\n",
        "                continue\n",
        "            \n",
        "            entity_indices = entity_indices + list(range(start,end))\n",
        "        \n",
        "            try:\n",
        "                span = doc.char_span(start, end, label=label, aligment_model='strict')\n",
        "            except:\n",
        "                continue\n",
        "            if span is None:\n",
        "                err_data = str([start,end]) + \"  \" + str(text) + '\\n'\n",
        "                file.write(err_data)\n",
        "            \n",
        "            else:\n",
        "                ents.append(span)\n",
        "            \n",
        "        try:\n",
        "            doc.ents = ents\n",
        "            db.add(doc)\n",
        "        except:\n",
        "            pass\n",
        "        \n",
        "    return db"
      ]
    },
    {
      "cell_type": "code",
      "source": [
        "train, test = train_test_split(cv_data, test_size=0.3)"
      ],
      "metadata": {
        "id": "6ne1bmSMlvBS"
      },
      "execution_count": null,
      "outputs": []
    },
    {
      "cell_type": "code",
      "source": [
        "len(train), len(test)"
      ],
      "metadata": {
        "id": "YSwhg_9DXHn5"
      },
      "execution_count": null,
      "outputs": []
    },
    {
      "cell_type": "code",
      "source": [
        "file = open('/content/drive/MyDrive/ResumeParser/model/train_file.txt','w')\n",
        "\n",
        "db = get_spacy_doc(file, train)\n",
        "db.to_disk('/content/drive/MyDrive/ResumeParser/model/train_data.spacy')\n",
        "\n",
        "db = get_spacy_doc(file, test)\n",
        "db.to_disk('/content/drive/MyDrive/ResumeParser/model/test_data.spacy')\n",
        "\n",
        "file.close()"
      ],
      "metadata": {
        "id": "GTAob4zqXxBk"
      },
      "execution_count": null,
      "outputs": []
    },
    {
      "cell_type": "code",
      "source": [
        "import locale\n",
        "def getpreferredencoding(do_setlocale = True):\n",
        "    return \"UTF-8\"\n",
        "locale.getpreferredencoding = getpreferredencoding\n",
        "!python -m spacy train /content/drive/MyDrive/ResumeParser/config/config.cfg --output /content/drive/MyDrive/ResumeParser/model/output  --paths.train /content/drive/MyDrive/ResumeParser/model/train_data.spacy --paths.dev /content/drive/MyDrive/ResumeParser/model/test_data.spacy --gpu-id 0"
      ],
      "metadata": {
        "id": "jXDxgjnLXpSI"
      },
      "execution_count": null,
      "outputs": []
    },
    {
      "cell_type": "code",
      "source": [
        "nlp = spacy.load('/content/drive/MyDrive/ResumeParser/model/output/model-best')"
      ],
      "metadata": {
        "id": "ZyP3GUYUXTb_"
      },
      "execution_count": null,
      "outputs": []
    },
    {
      "cell_type": "code",
      "source": [
        "def resume_parser(file_path):\n",
        "  doc = fitz.open(file_path.name)\n",
        "  text = \"\"\n",
        "  for page in doc:\n",
        "    text = text + str(page.get_text())\n",
        "  doc = nlp(text)\n",
        "  entity_dict = {}\n",
        "  for ent in doc.ents:\n",
        "    if ent.label_ not in entity_dict:\n",
        "      entity_dict[ent.label_] = [ent.text]\n",
        "    else:\n",
        "      entity_dict[ent.label_].append(ent.text)\n",
        "  entity_list = []\n",
        "  for label, values in entity_dict.items():\n",
        "    if len(values) == 1:\n",
        "      entity_list.append({label: values[0]})\n",
        "    else:\n",
        "      entity_list.append({label: [value for value in values]})\n",
        "  return entity_list"
      ],
      "metadata": {
        "id": "EsurOwlnuVow"
      },
      "execution_count": null,
      "outputs": []
    },
    {
      "cell_type": "code",
      "source": [
        "resume_parser('/content/drive/MyDrive/ResumeParser/test/Resume Barkamol Urinboev.pdf')"
      ],
      "metadata": {
        "id": "j0I6P9qxXZaU"
      },
      "execution_count": null,
      "outputs": []
    },
    {
      "cell_type": "code",
      "source": [
        "demo = gr.Interface(resume_parser, \"file\", \"json\")\n",
        "demo.launch(debug=True,share=True)"
      ],
      "metadata": {
        "id": "M3RXKVMiXjCN"
      },
      "execution_count": null,
      "outputs": []
    }
  ],
  "metadata": {
    "accelerator": "GPU",
    "colab": {
      "provenance": [],
      "mount_file_id": "1t6cs27JLBgEWKw5-vKOQh-yeAvFXo1tM",
      "authorship_tag": "ABX9TyO+jr9Q2Fu3m7BKMbMaOl0K",
      "include_colab_link": true
    },
    "gpuClass": "standard",
    "kernelspec": {
      "display_name": "Python 3",
      "name": "python3"
    },
    "language_info": {
      "name": "python"
    }
  },
  "nbformat": 4,
  "nbformat_minor": 0
}