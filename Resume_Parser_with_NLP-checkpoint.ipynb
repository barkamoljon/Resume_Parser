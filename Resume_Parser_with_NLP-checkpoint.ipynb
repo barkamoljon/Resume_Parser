{
 "cells": [
  {
   "cell_type": "code",
   "execution_count": null,
   "id": "3uBmdwI8FC0X",
   "metadata": {
    "id": "3uBmdwI8FC0X"
   },
   "outputs": [],
   "source": [
    "#do not install not used libraries"
   ]
  },
  {
   "cell_type": "code",
   "execution_count": null,
   "id": "56a20e7f-360c-4e91-a423-82aff16f3b64",
   "metadata": {
    "id": "56a20e7f-360c-4e91-a423-82aff16f3b64"
   },
   "outputs": [],
   "source": [
    "!pip install -U spacy\n",
    "!pip install spacy_transformers\n",
    "!pip install gradio\n",
    "!pip install PyPDF2==2.9.0\n",
    "!pip install fitz\n",
    "!pip install pip install PyMuPDF==1.19.0"
   ]
  },
  {
   "cell_type": "code",
   "execution_count": null,
   "id": "d29875a4",
   "metadata": {
    "colab": {
     "base_uri": "https://localhost:8080/"
    },
    "id": "d29875a4",
    "outputId": "27829b42-ca65-480a-bb29-814c2cabdf9f"
   },
   "outputs": [
    {
     "name": "stderr",
     "output_type": "stream",
     "text": [
      "/usr/local/lib/python3.9/dist-packages/torch/cuda/__init__.py:497: UserWarning: Can't initialize NVML\n",
      "  warnings.warn(\"Can't initialize NVML\")\n"
     ]
    }
   ],
   "source": [
    "import spacy\n",
    "import fitz\n",
    "import gradio as gr\n",
    "import json  #do not import if you do not use it\n",
    "import PyPDF2\n",
    "from spacy.tokens import DocBin #do not import if you do not use it\n",
    "from tqdm import tqdm #do not import if you do not use it\n",
    "from sklearn.model_selection import train_test_split #do not import if you do not use it"
   ]
  },
  {
   "cell_type": "code",
   "execution_count": null,
   "id": "ZnjQeIOTCnNs",
   "metadata": {
    "colab": {
     "base_uri": "https://localhost:8080/"
    },
    "id": "ZnjQeIOTCnNs",
    "outputId": "6f85cbd1-c640-4b4f-b94f-aa3c5af0a187"
   },
   "outputs": [
    {
     "name": "stdout",
     "output_type": "stream",
     "text": [
      "Downloading...\n",
      "From: https://drive.google.com/uc?id=1AQLPG0Eyp5PrbNXL-eX3RAc8wMSLrjNt\n",
      "To: /content/model-best.zip\n",
      "100% 445M/445M [00:09<00:00, 48.5MB/s]\n"
     ]
    }
   ],
   "source": [
    "!gdown 1AQLPG0Eyp5PrbNXL-eX3RAc8wMSLrjNt"
   ]
  },
  {
   "cell_type": "code",
   "execution_count": null,
   "id": "DJPdKrvOCrIp",
   "metadata": {
    "colab": {
     "base_uri": "https://localhost:8080/"
    },
    "id": "DJPdKrvOCrIp",
    "outputId": "fc80b897-0a6a-44f6-b10a-2a43a5e0a448"
   },
   "outputs": [
    {
     "name": "stdout",
     "output_type": "stream",
     "text": [
      "Archive:  /content/model-best.zip\n",
      "  inflating: model-best/config.cfg   \n",
      "  inflating: model-best/meta.json    \n",
      "   creating: model-best/ner/\n",
      "  inflating: model-best/ner/cfg      \n",
      "  inflating: model-best/ner/model    \n",
      "  inflating: model-best/ner/moves    \n",
      "  inflating: model-best/tokenizer    \n",
      "   creating: model-best/transformer/\n",
      " extracting: model-best/transformer/cfg  \n",
      "  inflating: model-best/transformer/model  \n",
      "   creating: model-best/vocab/\n",
      " extracting: model-best/vocab/key2row  \n",
      " extracting: model-best/vocab/lookups.bin  \n",
      "  inflating: model-best/vocab/strings.json  \n",
      "  inflating: model-best/vocab/vectors  \n",
      " extracting: model-best/vocab/vectors.cfg  \n"
     ]
    }
   ],
   "source": [
    "!unzip /content/model-best.zip"
   ]
  },
  {
   "cell_type": "code",
   "execution_count": null,
   "id": "1b94c143",
   "metadata": {
    "id": "1b94c143"
   },
   "outputs": [],
   "source": [
    "nlp = spacy.load(r\"/content/model-best\")"
   ]
  },
  {
   "cell_type": "code",
   "execution_count": null,
   "id": "v8eBwqkVHjpD",
   "metadata": {
    "id": "v8eBwqkVHjpD"
   },
   "outputs": [],
   "source": [
    "def resume_parser(file_path):\n",
    "  doc = fitz.open(file_path.name)\n",
    "  text = \"\"\n",
    "  for page in doc:\n",
    "    text = text + str(page.get_text())\n",
    "  doc = nlp(text)\n",
    "  entity_dict = {}\n",
    "  for ent in doc.ents:\n",
    "    if ent.label_ not in entity_dict:\n",
    "      entity_dict[ent.label_] = [ent.text]\n",
    "    else:\n",
    "      entity_dict[ent.label_].append(ent.text)\n",
    "  entity_list = []\n",
    "  for label, values in entity_dict.items():\n",
    "    if len(values) == 1:\n",
    "      entity_list.append({label: values[0]})\n",
    "    else:\n",
    "      entity_list.append({label: [value for value in values]})\n",
    "  return entity_list"
   ]
  },
  {
   "cell_type": "code",
   "execution_count": null,
   "id": "xIu3mljNDAfJ",
   "metadata": {
    "colab": {
     "base_uri": "https://localhost:8080/",
     "height": 626
    },
    "id": "xIu3mljNDAfJ",
    "outputId": "93609e56-e9b8-4603-c0ba-563b2af83293"
   },
   "outputs": [
    {
     "name": "stdout",
     "output_type": "stream",
     "text": [
      "Colab notebook detected. This cell will run indefinitely so that you can see errors and logs. To turn off, set debug=False in launch().\n",
      "Running on public URL: https://e05b2b5e0a8de36d5e.gradio.live\n",
      "\n",
      "This share link expires in 72 hours. For free permanent hosting and GPU upgrades (NEW!), check out Spaces: https://huggingface.co/spaces\n"
     ]
    },
    {
     "data": {
      "text/html": [
       "<div><iframe src=\"https://e05b2b5e0a8de36d5e.gradio.live\" width=\"100%\" height=\"500\" allow=\"autoplay; camera; microphone; clipboard-read; clipboard-write;\" frameborder=\"0\" allowfullscreen></iframe></div>"
      ],
      "text/plain": [
       "<IPython.core.display.HTML object>"
      ]
     },
     "metadata": {},
     "output_type": "display_data"
    },
    {
     "name": "stdout",
     "output_type": "stream",
     "text": [
      "Keyboard interruption in main thread... closing server.\n",
      "Killing tunnel 127.0.0.1:7860 <> https://e05b2b5e0a8de36d5e.gradio.live\n"
     ]
    },
    {
     "data": {
      "text/plain": []
     },
     "execution_count": 25,
     "metadata": {},
     "output_type": "execute_result"
    }
   ],
   "source": [
    "demo = gr.Interface(resume_parser, \"file\", \"json\")\n",
    "demo.launch(debug=True,share=True)"
   ]
  }
 ],
 "metadata": {
  "colab": {
   "provenance": []
  },
  "kernelspec": {
   "display_name": "Python 3 (ipykernel)",
   "language": "python",
   "name": "python3"
  },
  "language_info": {
   "codemirror_mode": {
    "name": "ipython",
    "version": 3
   },
   "file_extension": ".py",
   "mimetype": "text/x-python",
   "name": "python",
   "nbconvert_exporter": "python",
   "pygments_lexer": "ipython3",
   "version": "3.9.7"
  }
 },
 "nbformat": 4,
 "nbformat_minor": 5
}
